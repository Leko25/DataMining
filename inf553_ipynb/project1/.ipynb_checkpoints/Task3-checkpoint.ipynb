{
 "cells": [
  {
   "cell_type": "markdown",
   "metadata": {},
   "source": [
    "Compute the businesses that have more than <b>n</b> reviews in <b>reviews.json</b>. Create a custom partition function, which should imporve the computational effiency."
   ]
  },
  {
   "cell_type": "code",
   "execution_count": 32,
   "metadata": {},
   "outputs": [],
   "source": [
    "import findspark\n",
    "findspark.init(\"/Users/chukuemekaogudu/Documents/Dev-Spark-Apache/Apache-Spark/spark-2.4.5-bin-hadoop2.7\")\n",
    "import os\n",
    "import json\n",
    "from pyspark import SparkContext, SparkConf\n",
    "import time"
   ]
  },
  {
   "cell_type": "code",
   "execution_count": 33,
   "metadata": {},
   "outputs": [],
   "source": [
    "data_dir = \"/Volumes/oli2/inf533_datasets\""
   ]
  },
  {
   "cell_type": "code",
   "execution_count": 34,
   "metadata": {},
   "outputs": [],
   "source": [
    "conf = SparkConf().setMaster(\"local[*]\").setAppName(\"Task3\")\n",
    "sc = SparkContext(conf=conf).getOrCreate()"
   ]
  },
  {
   "cell_type": "code",
   "execution_count": 35,
   "metadata": {},
   "outputs": [],
   "source": [
    "def getPartitionMap(idx, partition):\n",
    "    count = 0\n",
    "    for _ in partition:\n",
    "        count += 1\n",
    "    return (idx, count)"
   ]
  },
  {
   "cell_type": "code",
   "execution_count": 36,
   "metadata": {},
   "outputs": [],
   "source": [
    "def default(sc, n=500):\n",
    "    start = time.time()\n",
    "    \n",
    "    lines = sc.textFile(os.path.join(data_dir, \"review.json\"))\n",
    "    \n",
    "    rdd = lines.map(json.loads).map(lambda x: (x[\"business_id\"], 1)).cache()\n",
    "    \n",
    "    print(\"number of partitions\", rdd.getNumPartitions())\n",
    "    \n",
    "    n_items = rdd.mapPartitionsWithIndex(getPartitionMap).collect()\n",
    "    print(\"n_items: \", n_items[1:])\n",
    "    \n",
    "    business_sum = rdd.reduceByKey(lambda x, y: x + y)\n",
    "    \n",
    "    popular_businesses = business_sum.filter(lambda x: x[1] > n)\n",
    "    \n",
    "    print(popular_businesses.collect())\n",
    "    \n",
    "    end = time.time()\n",
    "    \n",
    "    print(\"Default time \", end - start)"
   ]
  },
  {
   "cell_type": "code",
   "execution_count": 37,
   "metadata": {},
   "outputs": [
    {
     "name": "stdout",
     "output_type": "stream",
     "text": [
      "number of partitions 27\n",
      "n_items:  [43432, 1, 43626, 2, 42795, 3, 43480, 4, 42788, 5, 42803, 6, 43248, 7, 42384, 8, 43461, 9, 43255, 10, 42551, 11, 43224, 12, 42719, 13, 42654, 14, 43355, 15, 42258, 16, 43589, 17, 43759, 18, 42491, 19, 43054, 20, 42732, 21, 42400, 22, 42716, 23, 41857, 24, 42907, 25, 43475, 26, 34612]\n",
      "[('7sPNbCx7vGAaH7SbNPZ6oA', 595), ('ujHiaprwCQ5ewziu0Vi9rw', 750), ('DkYS3arLOhA8si5uUEmHOw', 863), ('4JNXUYY8wbaaDmk3BPzlWw', 1446), ('3kdSl5mo9dWC4clrQjEDGg', 595), ('FaHADZARwnY4yvlvpnsfGA', 593), ('cYwJA2A6I12KNkm2rtXd5g', 1002), ('AV6weBrZFFBfRGCbcRGO4g', 733), ('faPVqws-x-5k2CQKDNtHxw', 628), ('K7lWdNUhCbcnEvI0NhGewg', 1156), ('XXW_OFaYQkkGOGniujZFHg', 572), ('BLIJ-p5wYuAhw6Pp6mh6mw', 539), ('fL-b760btOaGa85OJ9ut3w', 555), ('rcaPajgKOJC2vo_l3xa42A', 657), ('RESDUcs7fIiihp38-d6_6g', 1502), ('P7pxQFqr7yBKMMI2J51udw', 538), ('na4Th5DrNauOv-c43QQFvA', 583), ('HhVmDybpU7L50Kb5A0jXTg', 549), ('RwMLuOkImBIqqYj4SSKSPg', 553), ('Wxxvi3LZbHNIDwJ-ZimtnA', 615), ('g8OnV26ywJlZpezdBnOWUQ', 562), ('MpmFFw0GE_2iRFPdsRpJbA', 562), ('KskYqH1Bi7Z_61pH6Om8pg', 708), ('El4FC8jcawUVgw_0EIcbaQ', 684), ('eAc9Vd6loOgRQolMXQt6FA', 551), ('QJatAcxYgK1Zp9BRZMAx7g', 550), ('VyjyHoBg3KC5BSFRlD0ZPQ', 517), ('u_vPjx925UPEG9DFOAAvFQ', 628), ('o7AiTlyWUrBSzdz6oMHj5w', 535), ('f4x1YBxkLrZg652xt2KR5g', 1039), ('5LNZ67Yw9RD6nf4_UhXOjw', 754), ('eoHdUeQDNgQ6WYEnP2aiRw', 676), ('2weQS-RnoOBhb1KsHKyoSQ', 769), ('iCQpiavjjPzJ5_3gPD5Ebg', 757), ('XZbuPXdyA0ZtTu3AzqtQhg', 585), ('YJ8ljUhLsz6CtT_2ORNFmg', 555), ('OETh78qcgDltvHULowwhJg', 597), ('hihud--QRriCYZw1zZvW4g', 636), ('yfxDa8RFOvJPQh0rNtakHA', 524), ('SMPbvZLSMMb7KU76YNYMGg', 748)]\n",
      "Default time  2.9547500610351562\n"
     ]
    }
   ],
   "source": [
    "default(sc)"
   ]
  },
  {
   "cell_type": "code",
   "execution_count": 50,
   "metadata": {},
   "outputs": [],
   "source": [
    "def customized(sc, num_partitions, n=500):\n",
    "    start = time.time()\n",
    "    \n",
    "    lines = sc.textFile(os.path.join(data_dir, \"review.json\"))\n",
    "    \n",
    "    rdd = lines.map(json.loads) \\\n",
    "                   .map(lambda x: (x[\"business_id\"], 1)) \\\n",
    "                   .partitionBy(num_partitions, lambda x: hash(x)) \\\n",
    "                   .cache()\n",
    "    \n",
    "    print(\"number of partitions\", rdd.getNumPartitions())\n",
    "    \n",
    "    n_items = rdd.mapPartitionsWithIndex(getPartitionMap).collect()\n",
    "    print(\"n_items: \", n_items[1:])\n",
    "    \n",
    "    business_sum = rdd.reduceByKey(lambda x, y: x + y)\n",
    "    \n",
    "    popular_businesses = business_sum.filter(lambda x: x[1] > n)\n",
    "    \n",
    "    print(popular_businesses.collect())\n",
    "    \n",
    "    end = time.time()\n",
    "    \n",
    "    print(\"Customized time \", end - start)"
   ]
  },
  {
   "cell_type": "code",
   "execution_count": 51,
   "metadata": {},
   "outputs": [
    {
     "name": "stdout",
     "output_type": "stream",
     "text": [
      "number of partitions 10\n",
      "n_items:  [113592, 1, 113164, 2, 112572, 3, 115934, 4, 113237, 5, 116843, 6, 116080, 7, 114035, 8, 118469, 9, 117699]\n",
      "[('DkYS3arLOhA8si5uUEmHOw', 863), ('faPVqws-x-5k2CQKDNtHxw', 628), ('o7AiTlyWUrBSzdz6oMHj5w', 535), ('rcaPajgKOJC2vo_l3xa42A', 657), ('5LNZ67Yw9RD6nf4_UhXOjw', 754), ('YJ8ljUhLsz6CtT_2ORNFmg', 555), ('XZbuPXdyA0ZtTu3AzqtQhg', 585), ('OETh78qcgDltvHULowwhJg', 597), ('QJatAcxYgK1Zp9BRZMAx7g', 550), ('ujHiaprwCQ5ewziu0Vi9rw', 750), ('K7lWdNUhCbcnEvI0NhGewg', 1156), ('3kdSl5mo9dWC4clrQjEDGg', 595), ('Wxxvi3LZbHNIDwJ-ZimtnA', 615), ('SMPbvZLSMMb7KU76YNYMGg', 748), ('El4FC8jcawUVgw_0EIcbaQ', 684), ('FaHADZARwnY4yvlvpnsfGA', 593), ('VyjyHoBg3KC5BSFRlD0ZPQ', 517), ('cYwJA2A6I12KNkm2rtXd5g', 1002), ('fL-b760btOaGa85OJ9ut3w', 555), ('RwMLuOkImBIqqYj4SSKSPg', 553), ('eAc9Vd6loOgRQolMXQt6FA', 551), ('KskYqH1Bi7Z_61pH6Om8pg', 708), ('g8OnV26ywJlZpezdBnOWUQ', 562), ('iCQpiavjjPzJ5_3gPD5Ebg', 757), ('f4x1YBxkLrZg652xt2KR5g', 1039), ('4JNXUYY8wbaaDmk3BPzlWw', 1446), ('eoHdUeQDNgQ6WYEnP2aiRw', 676), ('u_vPjx925UPEG9DFOAAvFQ', 628), ('2weQS-RnoOBhb1KsHKyoSQ', 769), ('AV6weBrZFFBfRGCbcRGO4g', 733), ('XXW_OFaYQkkGOGniujZFHg', 572), ('HhVmDybpU7L50Kb5A0jXTg', 549), ('BLIJ-p5wYuAhw6Pp6mh6mw', 539), ('MpmFFw0GE_2iRFPdsRpJbA', 562), ('P7pxQFqr7yBKMMI2J51udw', 538), ('RESDUcs7fIiihp38-d6_6g', 1502), ('na4Th5DrNauOv-c43QQFvA', 583), ('7sPNbCx7vGAaH7SbNPZ6oA', 595), ('hihud--QRriCYZw1zZvW4g', 636), ('yfxDa8RFOvJPQh0rNtakHA', 524)]\n",
      "Customized time  2.652175188064575\n"
     ]
    }
   ],
   "source": [
    "customized(sc, 10, n=500)"
   ]
  },
  {
   "cell_type": "code",
   "execution_count": null,
   "metadata": {},
   "outputs": [],
   "source": []
  }
 ],
 "metadata": {
  "kernelspec": {
   "display_name": "Python 3",
   "language": "python",
   "name": "python3"
  },
  "language_info": {
   "codemirror_mode": {
    "name": "ipython",
    "version": 3
   },
   "file_extension": ".py",
   "mimetype": "text/x-python",
   "name": "python",
   "nbconvert_exporter": "python",
   "pygments_lexer": "ipython3",
   "version": "3.7.7"
  }
 },
 "nbformat": 4,
 "nbformat_minor": 4
}
