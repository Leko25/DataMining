{
 "cells": [
  {
   "cell_type": "code",
   "execution_count": 25,
   "metadata": {},
   "outputs": [],
   "source": [
    "import findspark\n",
    "findspark.init(\"/Users/chukuemekaogudu/Documents/Dev-Spark-Apache/Apache-Spark/spark-2.4.5-bin-hadoop2.7\")\n",
    "\n",
    "import os\n",
    "import json\n",
    "import time\n",
    "from collections import Counter\n",
    "from pyspark import SparkContext, SparkConf"
   ]
  },
  {
   "cell_type": "code",
   "execution_count": 26,
   "metadata": {},
   "outputs": [],
   "source": [
    "data_dir = \"/Volumes/oli2/inf533_datasets\""
   ]
  },
  {
   "cell_type": "code",
   "execution_count": 27,
   "metadata": {},
   "outputs": [],
   "source": [
    "config = SparkConf().setMaster(\"local[*]\") \\\n",
    "                    .setAppName(\"Task2Opt\") \\\n",
    "                    .set(\"spark.executor.memory\", \"4g\") \\\n",
    "                    .set(\"spark.driver.memory\", \"4g\")\n",
    "sc = SparkContext(conf=config).getOrCreate()"
   ]
  },
  {
   "cell_type": "code",
   "execution_count": 28,
   "metadata": {},
   "outputs": [],
   "source": [
    "lines = sc.textFile(os.path.join(data_dir, \"output.json\")) \\\n",
    "          .map(json.loads) \\\n",
    "          .cache()"
   ]
  },
  {
   "cell_type": "code",
   "execution_count": 29,
   "metadata": {},
   "outputs": [],
   "source": [
    "business_tokens = lines.filter(lambda x: x[\"description\"] == \"business_tokens\")"
   ]
  },
  {
   "cell_type": "code",
   "execution_count": 30,
   "metadata": {},
   "outputs": [],
   "source": [
    "businessID_tokens = business_tokens.map(lambda x: (x[\"id\"], x[\"token\"])) \\\n",
    "                                   .collectAsMap()"
   ]
  },
  {
   "cell_type": "code",
   "execution_count": 31,
   "metadata": {},
   "outputs": [
    {
     "name": "stdout",
     "output_type": "stream",
     "text": [
      "10253\n"
     ]
    }
   ],
   "source": [
    "print(len(businessID_tokens))"
   ]
  },
  {
   "cell_type": "code",
   "execution_count": 32,
   "metadata": {},
   "outputs": [],
   "source": [
    "tokens_businessID = business_tokens.map(lambda x: (x[\"token\"], x[\"id\"])) \\\n",
    "                                   .collectAsMap()"
   ]
  },
  {
   "cell_type": "code",
   "execution_count": 33,
   "metadata": {},
   "outputs": [
    {
     "name": "stdout",
     "output_type": "stream",
     "text": [
      "0 bZMcorDrciRbjdjRyANcjA\n",
      "1 n8Zqqhff-2cxzWt_nwhU2Q\n",
      "2 1Df5WnLX3DqN6ymlhqznaQ\n",
      "3 VfFHPsPtTW4Mgx0eHDyJiQ\n",
      "4 bPcqucuuClxYrIM8xWoArg\n",
      "5 6Z6IyosSMciZtwk8hRLRag\n",
      "6 1xieLFUt_lgTUuGRabiMpQ\n",
      "7 If6Bku2jkgPiikR6HBu-XQ\n",
      "8 wqFkAsxYPA5tcdSkYMtrrw\n",
      "9 aEGV0W2i8HRoDFsRrMz-BA\n"
     ]
    }
   ],
   "source": [
    "count = 0\n",
    "for k, v in tokens_businessID.items():\n",
    "    if count == 10:\n",
    "        break\n",
    "    print(k, v)\n",
    "    count += 1"
   ]
  },
  {
   "cell_type": "code",
   "execution_count": 34,
   "metadata": {},
   "outputs": [],
   "source": [
    "user_tokens = lines.filter(lambda x: x[\"description\"] == \"user_tokens\")"
   ]
  },
  {
   "cell_type": "code",
   "execution_count": 35,
   "metadata": {},
   "outputs": [],
   "source": [
    "userID_tokens = user_tokens.map(lambda x: (x[\"id\"], x[\"token\"])) \\\n",
    "                           .collectAsMap()"
   ]
  },
  {
   "cell_type": "code",
   "execution_count": 36,
   "metadata": {},
   "outputs": [],
   "source": [
    "tokens_userID = user_tokens.map(lambda x: (x[\"token\"], x[\"id\"])) \\\n",
    "                           .collectAsMap()"
   ]
  },
  {
   "cell_type": "code",
   "execution_count": 37,
   "metadata": {},
   "outputs": [
    {
     "name": "stdout",
     "output_type": "stream",
     "text": [
      "26184\n"
     ]
    }
   ],
   "source": [
    "print(len(userID_tokens))"
   ]
  },
  {
   "cell_type": "code",
   "execution_count": 38,
   "metadata": {},
   "outputs": [
    {
     "name": "stdout",
     "output_type": "stream",
     "text": [
      "0 txu_KwZOGYG6O3yYHjztbg\n",
      "1 ELfzWgdf64VBLi5z1ECItw\n",
      "2 rTIVsxvTEm5b94C2th5xQQ\n",
      "3 PQ6-FZpUn2oFLyBGvdiG3w\n",
      "4 TSMFB4bXjaEBdhQqIp8yGg\n",
      "5 DeVGAiOf2mHVUDfxvuhVlQ\n",
      "6 slazr8QlWY1Fuwrb3DJQ5Q\n",
      "7 eMOpOLfR1Zz5tfHUlzMp_w\n",
      "8 IoAWPFOjYUY-16q1mp-i1A\n",
      "9 K2EV5TzIQRGn20WLpKLmcg\n"
     ]
    }
   ],
   "source": [
    "count = 0\n",
    "for k, v in tokens_userID.items():\n",
    "    if count == 10:\n",
    "        break\n",
    "    print(k, v)\n",
    "    count += 1"
   ]
  },
  {
   "cell_type": "code",
   "execution_count": 39,
   "metadata": {},
   "outputs": [],
   "source": [
    "business_profile = lines.filter(lambda x: x[\"description\"] == \"business_profile\") \\\n",
    "                        .map(lambda x: (x[\"id\"], x[\"profile\"])) \\\n",
    "                        .collectAsMap()"
   ]
  },
  {
   "cell_type": "code",
   "execution_count": 40,
   "metadata": {},
   "outputs": [],
   "source": [
    "user_profile = lines.filter(lambda x: x[\"description\"] == \"user_profile\") \\\n",
    "                    .map(lambda x: (x[\"id\"], x[\"profile\"])) \\\n",
    "                    .collectAsMap()"
   ]
  },
  {
   "cell_type": "code",
   "execution_count": 41,
   "metadata": {},
   "outputs": [
    {
     "name": "stdout",
     "output_type": "stream",
     "text": [
      "10253\n",
      "26184\n"
     ]
    }
   ],
   "source": [
    "print(len(business_profile))\n",
    "print(len(user_profile))"
   ]
  },
  {
   "cell_type": "code",
   "execution_count": 56,
   "metadata": {},
   "outputs": [],
   "source": [
    "def cosine_similarity(s1, s2):\n",
    "    import math\n",
    "    denominator = len(s1) * len(s2)\n",
    "    if denominator == 0:\n",
    "        return 0.0\n",
    "    denominator = math.sqrt(len(s1)) * math.sqrt(len(s2))\n",
    "    return len(s1.intersection(s2)) / float(denominator)"
   ]
  },
  {
   "cell_type": "code",
   "execution_count": 67,
   "metadata": {},
   "outputs": [],
   "source": [
    "prediction = sc.textFile(os.path.join(data_dir, \"test_review.json\")) \\\n",
    "               .map(json.loads) \\\n",
    "               .map(lambda x: ((x[\"user_id\"], x[\"business_id\"]), (userID_tokens.get(x[\"user_id\"]), businessID_tokens.get(x[\"business_id\"])))) \\\n",
    "               .filter(lambda x: x[1][0] != None and x[1][1] != None) \\\n",
    "               .mapValues(lambda x: cosine_similarity(set(user_profile[x[0]]), set(business_profile[x[1]]))) \\\n",
    "               .filter(lambda x: x[1] >= 0.01).collect()"
   ]
  },
  {
   "cell_type": "code",
   "execution_count": 70,
   "metadata": {},
   "outputs": [
    {
     "data": {
      "text/plain": [
       "0.35488672049383807"
      ]
     },
     "execution_count": 70,
     "metadata": {},
     "output_type": "execute_result"
    }
   ],
   "source": [
    "value = prediction[0]\n",
    "value[1]"
   ]
  },
  {
   "cell_type": "code",
   "execution_count": 61,
   "metadata": {},
   "outputs": [
    {
     "name": "stdout",
     "output_type": "stream",
     "text": [
      "('mEzc6LeTNiQgIVsq3poMbg', '9UVkAmyodpaSBm49DBKFNw') 0.35488672049383807\n",
      "('QtMgqKY_GF3XkOpXonaExA', 'IJUCRd5v-XLkcGrKjb8IfA') 0.3883099475736044\n",
      "('nwvnNIixvyYTg4JS8g3Xgg', 'WQyGqfFKd-baBTVfZWzeTw') 0.2948913288139216\n",
      "('aZtJzH3fRIRzrGnQRIVaRg', 'bKbYRUZKDYonSPOjzchJJg') 0.41360938972988415\n",
      "('Vp5DzIiP_MmaMZMZVFFltA', 'ujHiaprwCQ5ewziu0Vi9rw') 0.29591817714964314\n",
      "('srm0YUaJubOLxs4ByEZpwg', 'iCQpiavjjPzJ5_3gPD5Ebg') 0.27613264277890714\n",
      "('XCNi6raOHuxmI66Cg2Er2Q', 'YJ8ljUhLsz6CtT_2ORNFmg') 0.29756216702269667\n",
      "('QuZbJquRtbY9O9JrB9NpxQ', '6EWqsE6Ojvt-FA-rl8Sm4Q') 0.2813194041362935\n",
      "('kwIhn1_cnQeUaLN0CuWWHw', 'TKcq0hOqesiDOwQb-ZwFAw') 0.3056839243938838\n",
      "('7fyAtRSYYqOKZPr39L2UYg', 'uGupeWqih0yIcCg8anM1PA') 0.28823067684915676\n"
     ]
    }
   ],
   "source": [
    "count = 0\n",
    "for k, v in prediction.items():\n",
    "    if count == 10:\n",
    "        break\n",
    "    print(k, v)\n",
    "    count += 1"
   ]
  },
  {
   "cell_type": "code",
   "execution_count": 62,
   "metadata": {},
   "outputs": [],
   "source": [
    "ground_truth = sc.textFile(os.path.join(data_dir, \"test_review_ratings.json\")) \\\n",
    "                 .map(json.loads) \\\n",
    "                 .map(lambda x: ((x[\"user_id\"], x[\"business_id\"]), 0)) \\\n",
    "                 .collectAsMap()"
   ]
  },
  {
   "cell_type": "code",
   "execution_count": 63,
   "metadata": {},
   "outputs": [],
   "source": [
    "for k in prediction.keys():\n",
    "    ground_truth[k] += 1"
   ]
  },
  {
   "cell_type": "code",
   "execution_count": 64,
   "metadata": {},
   "outputs": [
    {
     "name": "stdout",
     "output_type": "stream",
     "text": [
      "58480\n"
     ]
    }
   ],
   "source": [
    "print(len(ground_truth))"
   ]
  },
  {
   "cell_type": "code",
   "execution_count": 65,
   "metadata": {},
   "outputs": [
    {
     "name": "stdout",
     "output_type": "stream",
     "text": [
      "58433\n"
     ]
    }
   ],
   "source": [
    "print(sum(ground_truth.values()))"
   ]
  },
  {
   "cell_type": "code",
   "execution_count": 66,
   "metadata": {},
   "outputs": [
    {
     "data": {
      "text/plain": [
       "0.9991963064295486"
      ]
     },
     "execution_count": 66,
     "metadata": {},
     "output_type": "execute_result"
    }
   ],
   "source": [
    "58433/58480"
   ]
  }
 ],
 "metadata": {
  "kernelspec": {
   "display_name": "Python 3",
   "language": "python",
   "name": "python3"
  },
  "language_info": {
   "codemirror_mode": {
    "name": "ipython",
    "version": 3
   },
   "file_extension": ".py",
   "mimetype": "text/x-python",
   "name": "python",
   "nbconvert_exporter": "python",
   "pygments_lexer": "ipython3",
   "version": "3.7.7"
  }
 },
 "nbformat": 4,
 "nbformat_minor": 4
}
