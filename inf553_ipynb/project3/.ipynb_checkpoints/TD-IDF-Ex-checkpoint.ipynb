{
 "cells": [
  {
   "cell_type": "code",
   "execution_count": 91,
   "metadata": {},
   "outputs": [],
   "source": [
    "import os\n",
    "import math\n",
    "import string\n",
    "from collections import defaultdict"
   ]
  },
  {
   "cell_type": "code",
   "execution_count": 92,
   "metadata": {},
   "outputs": [],
   "source": [
    "data_dir = \"/Users/chukuemekaogudu/Documents/DataMining/inf553_ipynb/project3/\""
   ]
  },
  {
   "cell_type": "code",
   "execution_count": 93,
   "metadata": {},
   "outputs": [],
   "source": [
    "stop_words_path = \"/Volumes/oli2/inf533_datasets/stopwords\""
   ]
  },
  {
   "cell_type": "code",
   "execution_count": 94,
   "metadata": {},
   "outputs": [],
   "source": [
    "def load_files(file_path):\n",
    "    data = \"\"\n",
    "    with open(file_path, \"r\") as file:\n",
    "        while True:\n",
    "            if not file.readline():\n",
    "                break\n",
    "            line = file.readline()\n",
    "            \n",
    "            line = line.split()\n",
    "            line = \" \".join(line)\n",
    "            line = line.translate(str.maketrans('', '', string.punctuation))\n",
    "            data += line\n",
    "    return data"
   ]
  },
  {
   "cell_type": "code",
   "execution_count": 95,
   "metadata": {},
   "outputs": [],
   "source": [
    "dante = load_files(os.path.join(data_dir, \"Dantes-Inferno.txt\"))"
   ]
  },
  {
   "cell_type": "code",
   "execution_count": 96,
   "metadata": {},
   "outputs": [],
   "source": [
    "hamlet = load_files(os.path.join(data_dir, \"hamlet.txt\"))"
   ]
  },
  {
   "cell_type": "code",
   "execution_count": 97,
   "metadata": {},
   "outputs": [],
   "source": [
    "total_word_count = len(dante.split()) + len(hamlet.split())"
   ]
  },
  {
   "cell_type": "code",
   "execution_count": 98,
   "metadata": {},
   "outputs": [
    {
     "data": {
      "text/plain": [
       "30238"
      ]
     },
     "execution_count": 98,
     "metadata": {},
     "output_type": "execute_result"
    }
   ],
   "source": [
    "total_word_count"
   ]
  },
  {
   "cell_type": "code",
   "execution_count": 99,
   "metadata": {},
   "outputs": [],
   "source": [
    "stopwords = None\n",
    "with open(stop_words_path, \"rb\") as file:\n",
    "    stopwords = file.read()\n",
    "    stopwords = stopwords.decode(\"utf-8\").split()"
   ]
  },
  {
   "cell_type": "code",
   "execution_count": 100,
   "metadata": {},
   "outputs": [
    {
     "data": {
      "text/plain": [
       "['i', 'me', 'my', 'myself', 'we', 'our', 'ours', 'ourselves', 'you', 'your']"
      ]
     },
     "execution_count": 100,
     "metadata": {},
     "output_type": "execute_result"
    }
   ],
   "source": [
    "stopwords[:10]"
   ]
  },
  {
   "cell_type": "code",
   "execution_count": 101,
   "metadata": {},
   "outputs": [],
   "source": [
    "def create_dict(doc, stopwords):\n",
    "    word_dict = defaultdict(int)\n",
    "    \n",
    "    for word in doc.split():\n",
    "        if word.lower() not in stopwords and not word.replace(\".\", \"\", 1).isdigit():\n",
    "            word_dict[word.lower()] += 1\n",
    "    return {k: v for k, v in sorted(word_dict.items(), key=lambda kv: kv[1], reverse=True)}"
   ]
  },
  {
   "cell_type": "code",
   "execution_count": 102,
   "metadata": {},
   "outputs": [],
   "source": [
    "dante_dict = create_dict(dante, stopwords)"
   ]
  },
  {
   "cell_type": "code",
   "execution_count": 103,
   "metadata": {},
   "outputs": [],
   "source": [
    "def get_top_items(word_dict, top):\n",
    "    count = 0\n",
    "    for k, v in word_dict.items():\n",
    "        if count == top:\n",
    "            break\n",
    "        print(k, v)\n",
    "        count += 1"
   ]
  },
  {
   "cell_type": "code",
   "execution_count": 104,
   "metadata": {},
   "outputs": [
    {
     "name": "stdout",
     "output_type": "stream",
     "text": [
      "thou 174\n",
      "one 108\n",
      "said 83\n",
      "unto 59\n",
      "upon 57\n",
      "thy 49\n",
      "master 44\n",
      "thee 43\n",
      "made 40\n",
      "saw 34\n",
      "still 34\n",
      "turned 34\n",
      "may 32\n",
      "art 31\n",
      "us 31\n",
      "doth 28\n",
      "shall 27\n",
      "great 26\n",
      "way 24\n",
      "come 23\n"
     ]
    }
   ],
   "source": [
    "get_top_items(dante_dict, 20)"
   ]
  },
  {
   "cell_type": "code",
   "execution_count": 105,
   "metadata": {},
   "outputs": [],
   "source": [
    "hamlet_dict = create_dict(hamlet, stopwords)"
   ]
  },
  {
   "cell_type": "code",
   "execution_count": 106,
   "metadata": {},
   "outputs": [
    {
     "name": "stdout",
     "output_type": "stream",
     "text": [
      "o 52\n",
      "good 47\n",
      "shall 47\n",
      "lord 47\n",
      "thou 43\n",
      "thy 41\n",
      "come 37\n",
      "let 36\n",
      "well 35\n",
      "king 34\n",
      "must 33\n",
      "hath 32\n",
      "us 32\n",
      "would 31\n",
      "th 31\n",
      "like 30\n",
      "sir 30\n",
      "hamlet 29\n",
      "ill 29\n",
      "know 28\n"
     ]
    }
   ],
   "source": [
    "get_top_items(hamlet_dict, 20)"
   ]
  },
  {
   "cell_type": "code",
   "execution_count": 107,
   "metadata": {},
   "outputs": [],
   "source": [
    "def compute_tf(word_dict, bow):\n",
    "    tf_dict = {}\n",
    "    bow_count = len(bow)\n",
    "    for word, count in word_dict.items():\n",
    "        tf_dict[word] = count / float(bow_count)\n",
    "    return tf_dict"
   ]
  },
  {
   "cell_type": "code",
   "execution_count": 108,
   "metadata": {},
   "outputs": [],
   "source": [
    "tf_dante = compute_tf(dante_dict, dante.split())\n",
    "tf_hamlet = compute_tf(hamlet_dict, hamlet.split())"
   ]
  },
  {
   "cell_type": "code",
   "execution_count": 109,
   "metadata": {},
   "outputs": [
    {
     "name": "stdout",
     "output_type": "stream",
     "text": [
      "thou 0.010669610007358351\n",
      "one 0.006622516556291391\n",
      "said 0.005089526612705421\n",
      "unto 0.0036178562668628894\n",
      "upon 0.003495217071376012\n",
      "thy 0.0030046602894285013\n",
      "master 0.002698062300711307\n",
      "thee 0.0026367427029678685\n",
      "made 0.0024527839097375523\n",
      "saw 0.0020848663232769194\n",
      "still 0.0020848663232769194\n",
      "turned 0.0020848663232769194\n",
      "may 0.0019622271277900416\n",
      "art 0.0019009075300466028\n",
      "us 0.0019009075300466028\n",
      "doth 0.0017169487368162864\n",
      "shall 0.0016556291390728477\n",
      "great 0.001594309541329409\n",
      "way 0.0014716703458425313\n",
      "come 0.0014103507480990925\n"
     ]
    }
   ],
   "source": [
    "get_top_items(tf_dante, 20)"
   ]
  },
  {
   "cell_type": "code",
   "execution_count": 110,
   "metadata": {},
   "outputs": [],
   "source": [
    "def compute_df(doc_list):\n",
    "    import math\n",
    "    idf_dict = {}\n",
    "    N = len(doc_list)\n",
    "    \n",
    "    # count the number of documents that contain a word w\n",
    "    idf_dict = defaultdict(int)\n",
    "    for doc in doc_list:\n",
    "        for word, count in doc.items():\n",
    "            if count > 0:\n",
    "                idf_dict[word] += 1\n",
    "                \n",
    "    for word, val in idf_dict.items():\n",
    "        idf_dict[word] = math.log(N / float(val))\n",
    "    return idf_dict"
   ]
  },
  {
   "cell_type": "code",
   "execution_count": 111,
   "metadata": {},
   "outputs": [],
   "source": [
    "idf_dict = compute_df([dante_dict, hamlet_dict])"
   ]
  },
  {
   "cell_type": "code",
   "execution_count": 112,
   "metadata": {},
   "outputs": [],
   "source": [
    "def compute_tfidf(tf_dict, idf_dict):\n",
    "    tfidf = {}\n",
    "    for word, val in tf_dict.items():\n",
    "        tfidf[word] = val * idf_dict[word]\n",
    "    return tfidf"
   ]
  },
  {
   "cell_type": "code",
   "execution_count": 113,
   "metadata": {},
   "outputs": [],
   "source": [
    "dante_tfidf = compute_tfidf(tf_dante, idf_dict)\n",
    "hamlet_tfidf = compute_tfidf(tf_hamlet, idf_dict)"
   ]
  },
  {
   "cell_type": "code",
   "execution_count": 121,
   "metadata": {},
   "outputs": [],
   "source": [
    "def filter_tfidf(tfidf_dict, top):\n",
    "    tfidf = {k: v for k, v in sorted(tfidf_dict.items(), key=lambda kv: kv[1], reverse=True)}\n",
    "    filtered = {}\n",
    "    count = 0\n",
    "    \n",
    "    for k, v in tfidf.items():\n",
    "        if count == top:\n",
    "            break\n",
    "        if v > 0.0:\n",
    "            filtered[k] = v\n",
    "            count += 1\n",
    "    return filtered"
   ]
  },
  {
   "cell_type": "code",
   "execution_count": 130,
   "metadata": {},
   "outputs": [],
   "source": [
    "dante_tfidf = filter_tfidf(dante_tfidf, 30)\n",
    "hamlet_tfidf = filter_tfidf(hamlet_tfidf, 30)"
   ]
  },
  {
   "cell_type": "code",
   "execution_count": 131,
   "metadata": {},
   "outputs": [],
   "source": [
    "import pandas as pd"
   ]
  },
  {
   "cell_type": "code",
   "execution_count": 132,
   "metadata": {},
   "outputs": [
    {
     "data": {
      "text/html": [
       "<div>\n",
       "<style scoped>\n",
       "    .dataframe tbody tr th:only-of-type {\n",
       "        vertical-align: middle;\n",
       "    }\n",
       "\n",
       "    .dataframe tbody tr th {\n",
       "        vertical-align: top;\n",
       "    }\n",
       "\n",
       "    .dataframe thead th {\n",
       "        text-align: right;\n",
       "    }\n",
       "</style>\n",
       "<table border=\"1\" class=\"dataframe\">\n",
       "  <thead>\n",
       "    <tr style=\"text-align: right;\">\n",
       "      <th></th>\n",
       "      <th>unto</th>\n",
       "      <th>master</th>\n",
       "      <th>turned</th>\n",
       "      <th>beheld</th>\n",
       "      <th>canto</th>\n",
       "      <th>seemed</th>\n",
       "      <th>downward</th>\n",
       "      <th>guide</th>\n",
       "      <th>side</th>\n",
       "      <th>forth</th>\n",
       "      <th>among</th>\n",
       "      <th>began</th>\n",
       "      <th>leader</th>\n",
       "      <th>farther</th>\n",
       "      <th>wholly</th>\n",
       "      <th>high</th>\n",
       "      <th>behold</th>\n",
       "      <th>near</th>\n",
       "      <th>bottom</th>\n",
       "      <th>city</th>\n",
       "    </tr>\n",
       "  </thead>\n",
       "  <tbody>\n",
       "    <tr>\n",
       "      <th>0</th>\n",
       "      <td>0.002508</td>\n",
       "      <td>0.00187</td>\n",
       "      <td>0.001445</td>\n",
       "      <td>0.00085</td>\n",
       "      <td>0.000723</td>\n",
       "      <td>0.000638</td>\n",
       "      <td>0.000638</td>\n",
       "      <td>0.000638</td>\n",
       "      <td>0.000595</td>\n",
       "      <td>0.000595</td>\n",
       "      <td>0.000553</td>\n",
       "      <td>0.00051</td>\n",
       "      <td>0.000468</td>\n",
       "      <td>0.000468</td>\n",
       "      <td>0.000468</td>\n",
       "      <td>0.000425</td>\n",
       "      <td>0.000425</td>\n",
       "      <td>0.000425</td>\n",
       "      <td>0.000425</td>\n",
       "      <td>0.000383</td>\n",
       "    </tr>\n",
       "  </tbody>\n",
       "</table>\n",
       "</div>"
      ],
      "text/plain": [
       "       unto   master    turned   beheld     canto    seemed  downward  \\\n",
       "0  0.002508  0.00187  0.001445  0.00085  0.000723  0.000638  0.000638   \n",
       "\n",
       "      guide      side     forth     among    began    leader   farther  \\\n",
       "0  0.000638  0.000595  0.000595  0.000553  0.00051  0.000468  0.000468   \n",
       "\n",
       "     wholly      high    behold      near    bottom      city  \n",
       "0  0.000468  0.000425  0.000425  0.000425  0.000425  0.000383  "
      ]
     },
     "execution_count": 132,
     "metadata": {},
     "output_type": "execute_result"
    }
   ],
   "source": [
    "pd.DataFrame([dante_tfidf])"
   ]
  },
  {
   "cell_type": "code",
   "execution_count": 133,
   "metadata": {},
   "outputs": [
    {
     "data": {
      "text/html": [
       "<div>\n",
       "<style scoped>\n",
       "    .dataframe tbody tr th:only-of-type {\n",
       "        vertical-align: middle;\n",
       "    }\n",
       "\n",
       "    .dataframe tbody tr th {\n",
       "        vertical-align: top;\n",
       "    }\n",
       "\n",
       "    .dataframe thead th {\n",
       "        text-align: right;\n",
       "    }\n",
       "</style>\n",
       "<table border=\"1\" class=\"dataframe\">\n",
       "  <thead>\n",
       "    <tr style=\"text-align: right;\">\n",
       "      <th></th>\n",
       "      <th>th</th>\n",
       "      <th>sir</th>\n",
       "      <th>hamlet</th>\n",
       "      <th>ay</th>\n",
       "      <th>nay</th>\n",
       "      <th>play</th>\n",
       "      <th>queen</th>\n",
       "      <th>dear</th>\n",
       "      <th>horatio</th>\n",
       "      <th>laertes</th>\n",
       "      <th>rosencrantz</th>\n",
       "      <th>thats</th>\n",
       "      <th>theres</th>\n",
       "      <th>mother</th>\n",
       "      <th>polonius</th>\n",
       "      <th>players</th>\n",
       "      <th>castleenter</th>\n",
       "      <th>welcome</th>\n",
       "      <th>young</th>\n",
       "      <th>room</th>\n",
       "    </tr>\n",
       "  </thead>\n",
       "  <tbody>\n",
       "    <tr>\n",
       "      <th>0</th>\n",
       "      <td>0.001543</td>\n",
       "      <td>0.001493</td>\n",
       "      <td>0.001443</td>\n",
       "      <td>0.000896</td>\n",
       "      <td>0.000796</td>\n",
       "      <td>0.000796</td>\n",
       "      <td>0.000746</td>\n",
       "      <td>0.000697</td>\n",
       "      <td>0.000647</td>\n",
       "      <td>0.000647</td>\n",
       "      <td>0.000647</td>\n",
       "      <td>0.000547</td>\n",
       "      <td>0.000547</td>\n",
       "      <td>0.000498</td>\n",
       "      <td>0.000498</td>\n",
       "      <td>0.000498</td>\n",
       "      <td>0.000448</td>\n",
       "      <td>0.000448</td>\n",
       "      <td>0.000448</td>\n",
       "      <td>0.000448</td>\n",
       "    </tr>\n",
       "  </tbody>\n",
       "</table>\n",
       "</div>"
      ],
      "text/plain": [
       "         th       sir    hamlet        ay       nay      play     queen  \\\n",
       "0  0.001543  0.001493  0.001443  0.000896  0.000796  0.000796  0.000746   \n",
       "\n",
       "       dear   horatio   laertes  rosencrantz     thats    theres    mother  \\\n",
       "0  0.000697  0.000647  0.000647     0.000647  0.000547  0.000547  0.000498   \n",
       "\n",
       "   polonius   players  castleenter   welcome     young      room  \n",
       "0  0.000498  0.000498     0.000448  0.000448  0.000448  0.000448  "
      ]
     },
     "execution_count": 133,
     "metadata": {},
     "output_type": "execute_result"
    }
   ],
   "source": [
    "pd.DataFrame([hamlet_tfidf])"
   ]
  },
  {
   "cell_type": "code",
   "execution_count": null,
   "metadata": {},
   "outputs": [],
   "source": []
  }
 ],
 "metadata": {
  "kernelspec": {
   "display_name": "Python 3",
   "language": "python",
   "name": "python3"
  },
  "language_info": {
   "codemirror_mode": {
    "name": "ipython",
    "version": 3
   },
   "file_extension": ".py",
   "mimetype": "text/x-python",
   "name": "python",
   "nbconvert_exporter": "python",
   "pygments_lexer": "ipython3",
   "version": "3.7.7"
  }
 },
 "nbformat": 4,
 "nbformat_minor": 4
}
