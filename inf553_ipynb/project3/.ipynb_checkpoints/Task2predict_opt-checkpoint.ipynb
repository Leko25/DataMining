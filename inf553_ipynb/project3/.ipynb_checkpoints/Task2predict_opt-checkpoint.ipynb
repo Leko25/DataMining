{
 "cells": [
  {
   "cell_type": "code",
   "execution_count": 1,
   "metadata": {},
   "outputs": [],
   "source": [
    "import findspark\n",
    "findspark.init(\"/Users/chukuemekaogudu/Documents/Dev-Spark-Apache/Apache-Spark/spark-2.4.5-bin-hadoop2.7\")\n",
    "\n",
    "import os\n",
    "import json\n",
    "import time\n",
    "from collections import Counter\n",
    "from pyspark import SparkContext, SparkConf"
   ]
  },
  {
   "cell_type": "code",
   "execution_count": 2,
   "metadata": {},
   "outputs": [],
   "source": [
    "data_dir = \"/Volumes/oli2/inf533_datasets\""
   ]
  },
  {
   "cell_type": "code",
   "execution_count": 3,
   "metadata": {},
   "outputs": [],
   "source": [
    "def cosine_similarity(s1, s2):\n",
    "    import math\n",
    "    denominator = len(s1) * len(s2)\n",
    "    if denominator == 0:\n",
    "        return 0.0\n",
    "    denominator = math.sqrt(len(s1)) * math.sqrt(len(s2))\n",
    "    return len(s1.intersection(s2)) / float(denominator)"
   ]
  },
  {
   "cell_type": "code",
   "execution_count": 4,
   "metadata": {},
   "outputs": [],
   "source": [
    "def main():\n",
    "    start = time.time()\n",
    "    config = SparkConf().setMaster(\"local[*]\") \\\n",
    "                        .setAppName(\"Task2Opt\") \\\n",
    "                        .set(\"spark.executor.memory\", \"4g\") \\\n",
    "                        .set(\"spark.driver.memory\", \"4g\")\n",
    "    sc = SparkContext(conf=config).getOrCreate()\n",
    "    \n",
    "    lines = sc.textFile(\"output.json\") \\\n",
    "              .map(json.loads) \\\n",
    "              .cache()\n",
    "    business_profile = lines.filter(lambda x: x[\"description\"] == \"business_profile\") \\\n",
    "                            .map(lambda x: (x[\"id\"], x[\"profile\"])) \\\n",
    "                            .collectAsMap()\n",
    "    user_profile = lines.filter(lambda x: x[\"description\"] == \"user_profile\") \\\n",
    "                        .map(lambda x: (x[\"id\"], x[\"profile\"])) \\\n",
    "                        .collectAsMap()\n",
    "    prediction = sc.textFile(os.path.join(data_dir, \"test_review.json\")) \\\n",
    "                   .map(json.loads) \\\n",
    "                   .map(lambda x: ((x[\"user_id\"], x[\"business_id\"]), (user_profile.get(x[\"user_id\"]), business_profile.get(x[\"business_id\"])))) \\\n",
    "                   .filter(lambda x: x[1][0] != None and x[1][1] != None) \\\n",
    "                   .mapValues(lambda x: cosine_similarity(set(x[0]), set(x[1]))) \\\n",
    "                   .filter(lambda x: x[1] >= 0.01).collectAsMap()\n",
    "    \n",
    "    ground_truth = sc.textFile(os.path.join(data_dir, \"test_review_ratings.json\")) \\\n",
    "                 .map(json.loads) \\\n",
    "                 .map(lambda x: ((x[\"user_id\"], x[\"business_id\"]), 0)) \\\n",
    "                 .collectAsMap()\n",
    "    \n",
    "    for k in prediction.keys():\n",
    "        ground_truth[k] += 1\n",
    "    \n",
    "    print(\"Accuracy \", sum(ground_truth.values())/len(ground_truth))\n",
    "    \n",
    "    print('Duration ', time.time() - start)\n",
    "    return prediction"
   ]
  },
  {
   "cell_type": "code",
   "execution_count": 5,
   "metadata": {},
   "outputs": [
    {
     "name": "stdout",
     "output_type": "stream",
     "text": [
      "Accuracy  0.0\n",
      "Duration  46.51373314857483\n"
     ]
    }
   ],
   "source": [
    "predictions = main()"
   ]
  },
  {
   "cell_type": "code",
   "execution_count": null,
   "metadata": {},
   "outputs": [],
   "source": []
  }
 ],
 "metadata": {
  "kernelspec": {
   "display_name": "Python 3",
   "language": "python",
   "name": "python3"
  },
  "language_info": {
   "codemirror_mode": {
    "name": "ipython",
    "version": 3
   },
   "file_extension": ".py",
   "mimetype": "text/x-python",
   "name": "python",
   "nbconvert_exporter": "python",
   "pygments_lexer": "ipython3",
   "version": "3.7.7"
  }
 },
 "nbformat": 4,
 "nbformat_minor": 4
}
