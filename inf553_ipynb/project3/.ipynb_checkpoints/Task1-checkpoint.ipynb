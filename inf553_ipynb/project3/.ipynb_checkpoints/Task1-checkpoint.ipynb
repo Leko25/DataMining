{
 "cells": [
  {
   "cell_type": "code",
   "execution_count": 202,
   "metadata": {},
   "outputs": [],
   "source": [
    "import findspark\n",
    "findspark.init(\"/Users/chukuemekaogudu/Documents/Dev-Spark-Apache/Apache-Spark/spark-2.4.5-bin-hadoop2.7\")\n",
    "\n",
    "from pyspark import SparkContext, SparkConf\n",
    "import json\n",
    "import time\n",
    "import os\n",
    "import random\n",
    "from collections import defaultdict\n",
    "from functools import reduce\n",
    "from itertools import combinations\n",
    "\n",
    "random.seed(25)"
   ]
  },
  {
   "cell_type": "code",
   "execution_count": 203,
   "metadata": {},
   "outputs": [],
   "source": [
    "data_dir = \"/Volumes/oli2/inf533_datasets/\""
   ]
  },
  {
   "cell_type": "code",
   "execution_count": 204,
   "metadata": {},
   "outputs": [],
   "source": [
    "config = SparkConf().setMaster(\"local[*]\") \\\n",
    "                    .setAppName(\"Task1\") \\\n",
    "                    .set(\"spark.executor.memory\", \"4g\") \\\n",
    "                    .set(\"spark.driver.memory\", \"4g\")\n",
    "sc = SparkContext(conf=config).getOrCreate()"
   ]
  },
  {
   "cell_type": "code",
   "execution_count": 205,
   "metadata": {},
   "outputs": [],
   "source": [
    "lines = sc.textFile(os.path.join(data_dir, \"train_review.json\"))"
   ]
  },
  {
   "cell_type": "code",
   "execution_count": 206,
   "metadata": {},
   "outputs": [],
   "source": [
    "rdd = lines.map(json.loads) \\\n",
    "           .map(lambda x: (x[\"user_id\"], x[\"business_id\"])).cache()"
   ]
  },
  {
   "cell_type": "code",
   "execution_count": 207,
   "metadata": {},
   "outputs": [],
   "source": [
    "business_map = rdd.map(lambda x: x[1]) \\\n",
    "                   .distinct() \\\n",
    "                   .zipWithIndex().cache()\n",
    "\n",
    "b_dict = business_map.collectAsMap()\n",
    "reversed_b_dict = business_map.map(lambda x: (x[1], x[0])).collectAsMap()"
   ]
  },
  {
   "cell_type": "code",
   "execution_count": 208,
   "metadata": {},
   "outputs": [],
   "source": [
    "user_dict = rdd.map(lambda x: x[0]) \\\n",
    "               .distinct() \\\n",
    "               .zipWithIndex() \\\n",
    "               .collectAsMap()"
   ]
  },
  {
   "cell_type": "code",
   "execution_count": 209,
   "metadata": {},
   "outputs": [],
   "source": [
    "user_business_rdd = rdd.map(lambda x: (user_dict[x[0]], b_dict[x[1]])) \\\n",
    "                       .groupByKey() \\\n",
    "                       .mapValues(lambda x: list(set(x))).cache()"
   ]
  },
  {
   "cell_type": "code",
   "execution_count": 210,
   "metadata": {},
   "outputs": [],
   "source": [
    "business_user_dict = rdd.map(lambda x: (b_dict[x[1]], user_dict[x[0]])) \\\n",
    "                        .groupByKey() \\\n",
    "                        .mapValues(lambda x: list(set(x))) \\\n",
    "                        .collectAsMap()"
   ]
  },
  {
   "cell_type": "markdown",
   "metadata": {},
   "source": [
    "### MinHash"
   ]
  },
  {
   "cell_type": "code",
   "execution_count": 177,
   "metadata": {},
   "outputs": [],
   "source": [
    "n_buckets = 100\n",
    "business_count = len(b_dict)"
   ]
  },
  {
   "cell_type": "code",
   "execution_count": 178,
   "metadata": {},
   "outputs": [],
   "source": [
    "def dynamic_hash(idx):\n",
    "    p = 2**35 - 365\n",
    "    a = random.randint(1, p - 1)\n",
    "    b = random.randint(217, p - 1)\n",
    "    m = 4294967295\n",
    "    return lambda x: ((a * x + b * idx) % p) % m"
   ]
  },
  {
   "cell_type": "code",
   "execution_count": 179,
   "metadata": {},
   "outputs": [],
   "source": [
    "hash_funcs = []\n",
    "for i in range(n_buckets):\n",
    "    hash_funcs.append(dynamic_hash(i))"
   ]
  },
  {
   "cell_type": "code",
   "execution_count": 180,
   "metadata": {},
   "outputs": [],
   "source": [
    "def get_hash(row):\n",
    "    hash_vals = []\n",
    "    for hash_func in hash_funcs:\n",
    "        hash_vals.append(hash_func(row))\n",
    "    return hash_vals"
   ]
  },
  {
   "cell_type": "code",
   "execution_count": 181,
   "metadata": {},
   "outputs": [],
   "source": [
    "hash_rdd = user_business_rdd.map(lambda x: (x[0], get_hash(x[0])))"
   ]
  },
  {
   "cell_type": "code",
   "execution_count": 182,
   "metadata": {},
   "outputs": [],
   "source": [
    "joined_hash_rdd = hash_rdd.join(user_business_rdd).partitionBy(7, lambda x: hash(x))"
   ]
  },
  {
   "cell_type": "code",
   "execution_count": 183,
   "metadata": {},
   "outputs": [],
   "source": [
    "def get_user_hash(pair):\n",
    "    hash_val = pair[0]\n",
    "    users = pair[1]\n",
    "    return [(user, hash_val) for user in users]"
   ]
  },
  {
   "cell_type": "code",
   "execution_count": 184,
   "metadata": {},
   "outputs": [],
   "source": [
    "def min_hash(h1, h2):\n",
    "    signature = []\n",
    "    for v1, v2, in zip(h1, h2):\n",
    "        signature.append(min(v1, v2))\n",
    "    return signature"
   ]
  },
  {
   "cell_type": "code",
   "execution_count": 185,
   "metadata": {},
   "outputs": [],
   "source": [
    "signature_mat = joined_hash_rdd.map(lambda x: get_user_hash(x[1])) \\\n",
    "                               .flatMap(lambda x: x) \\\n",
    "                               .reduceByKey(lambda h1, h2: min_hash(h1, h2)).cache()"
   ]
  },
  {
   "cell_type": "markdown",
   "metadata": {},
   "source": [
    "### LSH"
   ]
  },
  {
   "cell_type": "code",
   "execution_count": 186,
   "metadata": {},
   "outputs": [],
   "source": [
    "BANDS = 25"
   ]
  },
  {
   "cell_type": "code",
   "execution_count": 194,
   "metadata": {},
   "outputs": [],
   "source": [
    "def lsh_hash(idx):\n",
    "    p = 2**75 - 545\n",
    "    a = random.randint(71**2, p - 1)\n",
    "    b = random.randint(0, p - 1)\n",
    "    m = 729351\n",
    "    return lambda x: ((a * x + b * idx) % p) % m"
   ]
  },
  {
   "cell_type": "code",
   "execution_count": 195,
   "metadata": {},
   "outputs": [],
   "source": [
    "lsh_hash_funcs = []\n",
    "for i in range(BANDS):\n",
    "    lsh_hash_funcs.append(lsh_hash(i))"
   ]
  },
  {
   "cell_type": "code",
   "execution_count": 196,
   "metadata": {},
   "outputs": [],
   "source": [
    "def generate_bands(signature):\n",
    "    bands = []\n",
    "    length = len(signature)\n",
    "    window = length//BANDS\n",
    "    idx = 1\n",
    "    for i in range(0, length, window):\n",
    "        start = i\n",
    "        bands.append((idx, signature[i: i + window]))\n",
    "        idx += 1\n",
    "    return bands"
   ]
  },
  {
   "cell_type": "code",
   "execution_count": 197,
   "metadata": {},
   "outputs": [],
   "source": [
    "def group_bands(pairs):\n",
    "    business_idx = pairs[0]\n",
    "    group = []\n",
    "\n",
    "    for band_pair in pairs[1]:\n",
    "        group.append((band_pair[0], (business_idx, band_pair[1])))\n",
    "    return group"
   ]
  },
  {
   "cell_type": "code",
   "execution_count": 198,
   "metadata": {},
   "outputs": [],
   "source": [
    "def lsh(bands):\n",
    "    band_id = bands[0]\n",
    "    pairs = bands[1]\n",
    "    \n",
    "    hash_table = defaultdict(list)\n",
    "    for pair in pairs:\n",
    "        business_id = pair[0]\n",
    "        hash_sum = hash(tuple(pair[1]))\n",
    "        hash_func = lsh_hash_funcs[band_id - 1]\n",
    "        hash_val = hash_func(hash_sum)\n",
    "        hash_table[hash_val].append(business_id)\n",
    "        \n",
    "    results = [v for _, v in hash_table.items()]\n",
    "    return (band_id, results)"
   ]
  },
  {
   "cell_type": "code",
   "execution_count": 199,
   "metadata": {},
   "outputs": [],
   "source": [
    "candidates = signature_mat.map(lambda x: (x[0], generate_bands(x[1]))) \\\n",
    "                               .map(group_bands) \\\n",
    "                               .flatMap(lambda x: x).groupByKey() \\\n",
    "                               .map(lsh) \\\n",
    "                               .flatMap(lambda x: x[1]) \\\n",
    "                               .filter(lambda x: len(x) > 1) \\\n",
    "                               .flatMap(lambda pairs: [pair for pair in combinations(pairs, 2)])"
   ]
  },
  {
   "cell_type": "code",
   "execution_count": 200,
   "metadata": {},
   "outputs": [
    {
     "name": "stdout",
     "output_type": "stream",
     "text": [
      "3158\n"
     ]
    }
   ],
   "source": [
    "print(len(candidates.collect()))"
   ]
  },
  {
   "cell_type": "code",
   "execution_count": 201,
   "metadata": {},
   "outputs": [],
   "source": [
    "def jaccard(s1, s2):\n",
    "    return s1.intersect(s2)/s1.union(s2)"
   ]
  },
  {
   "cell_type": "code",
   "execution_count": null,
   "metadata": {},
   "outputs": [],
   "source": [
    "def compute_similarity():\n",
    "    "
   ]
  }
 ],
 "metadata": {
  "kernelspec": {
   "display_name": "Python 3",
   "language": "python",
   "name": "python3"
  },
  "language_info": {
   "codemirror_mode": {
    "name": "ipython",
    "version": 3
   },
   "file_extension": ".py",
   "mimetype": "text/x-python",
   "name": "python",
   "nbconvert_exporter": "python",
   "pygments_lexer": "ipython3",
   "version": "3.7.7"
  }
 },
 "nbformat": 4,
 "nbformat_minor": 4
}
