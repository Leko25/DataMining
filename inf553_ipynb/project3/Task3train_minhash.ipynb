{
 "cells": [
  {
   "cell_type": "code",
   "execution_count": 163,
   "metadata": {},
   "outputs": [],
   "source": [
    "import findspark\n",
    "findspark.init(\"/Users/chukuemekaogudu/Documents/Dev-Spark-Apache/Apache-Spark/spark-2.4.5-bin-hadoop2.7\")\n",
    "\n",
    "from pyspark import SparkContext, SparkConf\n",
    "import json\n",
    "import time\n",
    "import os\n",
    "import random\n",
    "from collections import defaultdict\n",
    "from functools import reduce\n",
    "from itertools import combinations\n",
    "\n",
    "random.seed(25)"
   ]
  },
  {
   "cell_type": "code",
   "execution_count": 164,
   "metadata": {},
   "outputs": [],
   "source": [
    "data_dir = \"/Volumes/oli2/inf533_datasets/\""
   ]
  },
  {
   "cell_type": "code",
   "execution_count": 165,
   "metadata": {},
   "outputs": [],
   "source": [
    "num_buckets = 1000\n",
    "bands = 500"
   ]
  },
  {
   "cell_type": "code",
   "execution_count": 166,
   "metadata": {},
   "outputs": [],
   "source": [
    "def min_hash_func(idx):\n",
    "    p = 2**35 - 365\n",
    "    a = random.randint(1, p - 1)\n",
    "    b = random.randint(217, p - 1)\n",
    "    m = 4294975\n",
    "    return lambda x: ((a * x + b * idx) % p) % m"
   ]
  },
  {
   "cell_type": "code",
   "execution_count": 167,
   "metadata": {},
   "outputs": [],
   "source": [
    "def lsh_hash(idx):\n",
    "    p = 2**75 - 545\n",
    "    a = random.randint(1, p - 1)\n",
    "    b = random.randint(0, p - 1)\n",
    "    m = 7293513\n",
    "    return lambda x: ((a * x + b * idx) % p) % m"
   ]
  },
  {
   "cell_type": "code",
   "execution_count": 168,
   "metadata": {},
   "outputs": [],
   "source": [
    "config = SparkConf().setMaster(\"local[*]\") \\\n",
    "                    .setAppName(\"Task1\") \\\n",
    "                    .set(\"spark.executor.memory\", \"4g\") \\\n",
    "                    .set(\"spark.driver.memory\", \"4g\")\n",
    "sc = SparkContext(conf=config).getOrCreate()"
   ]
  },
  {
   "cell_type": "code",
   "execution_count": 169,
   "metadata": {},
   "outputs": [],
   "source": [
    "lines = sc.textFile(os.path.join(data_dir, \"train_review.json\")).map(json.loads).cache()"
   ]
  },
  {
   "cell_type": "code",
   "execution_count": 170,
   "metadata": {},
   "outputs": [],
   "source": [
    "business_tokens = lines.map(lambda x: x[\"business_id\"]).distinct().zipWithIndex().collectAsMap()\n",
    "tokens_business = {v: k for k, v in business_tokens.items()}"
   ]
  },
  {
   "cell_type": "code",
   "execution_count": 171,
   "metadata": {},
   "outputs": [],
   "source": [
    "user_tokens = lines.map(lambda x: x[\"user_id\"]).distinct().zipWithIndex().collectAsMap()\n",
    "tokens_user = {v: k for k, v in user_tokens.items()}"
   ]
  },
  {
   "cell_type": "code",
   "execution_count": 172,
   "metadata": {},
   "outputs": [],
   "source": [
    "business_users = lines.map(lambda x: (business_tokens[x[\"business_id\"]], (user_tokens[x[\"user_id\"]], x[\"stars\"]))) \\\n",
    "                      .groupByKey() \\\n",
    "                      .filter(lambda x: len(x[1]) >= 3) \\\n",
    "                      .mapValues(dict).cache()"
   ]
  },
  {
   "cell_type": "code",
   "execution_count": 173,
   "metadata": {},
   "outputs": [],
   "source": [
    "users_business = lines.map(lambda x: (user_tokens[x[\"user_id\"]], (business_tokens[x[\"business_id\"]], x[\"stars\"]))) \\\n",
    "                      .groupByKey() \\\n",
    "                      .filter(lambda x: len(x[1]) >= 3) \\\n",
    "                      .mapValues(dict) \\\n",
    "                      .collectAsMap()"
   ]
  },
  {
   "cell_type": "code",
   "execution_count": 174,
   "metadata": {},
   "outputs": [
    {
     "name": "stdout",
     "output_type": "stream",
     "text": [
      "26182\n"
     ]
    }
   ],
   "source": [
    "print(len(users_business))"
   ]
  },
  {
   "cell_type": "markdown",
   "metadata": {},
   "source": [
    "### MinHash"
   ]
  },
  {
   "cell_type": "code",
   "execution_count": 175,
   "metadata": {},
   "outputs": [],
   "source": [
    "hash_funcs = [min_hash_func(i) for i in range(num_buckets)]"
   ]
  },
  {
   "cell_type": "code",
   "execution_count": 176,
   "metadata": {},
   "outputs": [],
   "source": [
    "def get_hash(row, hash_funcs):\n",
    "    hash_vals = [hash_func(row) for hash_func in hash_funcs]\n",
    "    return hash_vals"
   ]
  },
  {
   "cell_type": "code",
   "execution_count": 177,
   "metadata": {},
   "outputs": [],
   "source": [
    "hash_rdd = business_users.map(lambda x: (x[0], get_hash(x[0], hash_funcs)))"
   ]
  },
  {
   "cell_type": "code",
   "execution_count": 178,
   "metadata": {},
   "outputs": [],
   "source": [
    "joined_hash_rdd = hash_rdd.join(business_users).partitionBy(7, lambda x: hash(x) % 7)"
   ]
  },
  {
   "cell_type": "code",
   "execution_count": 179,
   "metadata": {},
   "outputs": [],
   "source": [
    "signature_mat = joined_hash_rdd.map(lambda x: get_user_hash(x[1])) \\\n",
    "                               .flatMap(lambda x: x) \\\n",
    "                               .reduceByKey(lambda h1, h2: min_hash(h1, h2))"
   ]
  },
  {
   "cell_type": "code",
   "execution_count": 180,
   "metadata": {},
   "outputs": [],
   "source": [
    "lsh_hash_funcs = [lsh_hash(i) for i in range(BANDS)]"
   ]
  },
  {
   "cell_type": "code",
   "execution_count": 181,
   "metadata": {},
   "outputs": [],
   "source": [
    "def get_intersect(s1, s2):\n",
    "    return len(set(s1.keys()).intersection(set(s2.keys())))"
   ]
  },
  {
   "cell_type": "code",
   "execution_count": 185,
   "metadata": {},
   "outputs": [],
   "source": [
    "candidates = signature_mat.map(lambda x: (x[0], generate_bands(x[1]))) \\\n",
    "                             .map(group_bands) \\\n",
    "                             .flatMap(lambda x: x) \\\n",
    "                             .groupByKey() \\\n",
    "                             .map(lambda x: lsh(x, lsh_hash_funcs)) \\\n",
    "                             .flatMap(lambda x: x[1]) \\\n",
    "                             .filter(lambda x: len(x) > 1) \\\n",
    "                             .flatMap(lambda pairs: [pair for pair in combinations(pairs, 2)]) \\\n",
    "                             .distinct() \\\n",
    "                             .filter(lambda x: users_business.get(x[0]) != None and users_business.get(x[1]) != None) \\\n",
    "                             .filter(lambda x: get_intersect(users_business[x[0]], users_business[x[1]]) >= 3) \\\n",
    "                             .collect()"
   ]
  },
  {
   "cell_type": "code",
   "execution_count": 186,
   "metadata": {},
   "outputs": [
    {
     "name": "stdout",
     "output_type": "stream",
     "text": [
      "791785\n"
     ]
    }
   ],
   "source": [
    "print(len(candidates))"
   ]
  },
  {
   "cell_type": "code",
   "execution_count": 187,
   "metadata": {},
   "outputs": [],
   "source": [
    "sc.stop()"
   ]
  }
 ],
 "metadata": {
  "kernelspec": {
   "display_name": "Python 3",
   "language": "python",
   "name": "python3"
  },
  "language_info": {
   "codemirror_mode": {
    "name": "ipython",
    "version": 3
   },
   "file_extension": ".py",
   "mimetype": "text/x-python",
   "name": "python",
   "nbconvert_exporter": "python",
   "pygments_lexer": "ipython3",
   "version": "3.7.7"
  }
 },
 "nbformat": 4,
 "nbformat_minor": 4
}
